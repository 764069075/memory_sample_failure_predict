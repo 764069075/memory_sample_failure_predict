{
 "cells": [
  {
   "cell_type": "code",
   "execution_count": 1,
   "id": "36430786-6f30-4649-bdf9-8650210e6ec9",
   "metadata": {
    "tags": []
   },
   "outputs": [],
   "source": [
    "import pandas as pd"
   ]
  },
  {
   "cell_type": "markdown",
   "id": "af4d33e7-d25b-4eb4-a62d-2f7823802cb7",
   "metadata": {
    "tags": []
   },
   "source": [
    "# 读取数据"
   ]
  },
  {
   "cell_type": "code",
   "execution_count": 28,
   "id": "34e79248-5e6c-4d70-948b-f15248349c7e",
   "metadata": {
    "tags": []
   },
   "outputs": [
    {
     "name": "stderr",
     "output_type": "stream",
     "text": [
      "C:\\Users\\76406\\AppData\\Local\\Temp\\ipykernel_24896\\1965852082.py:1: DtypeWarning: Columns (1) have mixed types. Specify dtype option on import or set low_memory=False.\n",
      "  data = pd.read_csv('../../数据/生成/预处理后数据.csv')\n"
     ]
    },
    {
     "data": {
      "text/html": [
       "<div>\n",
       "<style scoped>\n",
       "    .dataframe tbody tr th:only-of-type {\n",
       "        vertical-align: middle;\n",
       "    }\n",
       "\n",
       "    .dataframe tbody tr th {\n",
       "        vertical-align: top;\n",
       "    }\n",
       "\n",
       "    .dataframe thead th {\n",
       "        text-align: right;\n",
       "    }\n",
       "</style>\n",
       "<table border=\"1\" class=\"dataframe\">\n",
       "  <thead>\n",
       "    <tr style=\"text-align: right;\">\n",
       "      <th></th>\n",
       "      <th>serial_number</th>\n",
       "      <th>failure_time</th>\n",
       "      <th>collect_time</th>\n",
       "      <th>1_hwerr_f</th>\n",
       "      <th>1_hwerr_e</th>\n",
       "      <th>2_hwerr_c</th>\n",
       "      <th>2_sel</th>\n",
       "      <th>3_hwerr_n</th>\n",
       "      <th>2_hwerr_s</th>\n",
       "      <th>3_hwerr_m</th>\n",
       "      <th>...</th>\n",
       "      <th>3_cmci_sub</th>\n",
       "      <th>3_cmci_det</th>\n",
       "      <th>3_hwerr_pi</th>\n",
       "      <th>3_hwerr_o</th>\n",
       "      <th>3_hwerr_mce_l</th>\n",
       "      <th>manufacturer</th>\n",
       "      <th>vendor</th>\n",
       "      <th>tag</th>\n",
       "      <th>err_time</th>\n",
       "      <th>err</th>\n",
       "    </tr>\n",
       "  </thead>\n",
       "  <tbody>\n",
       "    <tr>\n",
       "      <th>0</th>\n",
       "      <td>server_31576</td>\n",
       "      <td>2019-01-14 18:52:31</td>\n",
       "      <td>2019-01-14 18:19:01</td>\n",
       "      <td>0</td>\n",
       "      <td>0</td>\n",
       "      <td>0</td>\n",
       "      <td>0</td>\n",
       "      <td>0</td>\n",
       "      <td>0</td>\n",
       "      <td>0</td>\n",
       "      <td>...</td>\n",
       "      <td>0</td>\n",
       "      <td>0</td>\n",
       "      <td>0</td>\n",
       "      <td>0</td>\n",
       "      <td>0</td>\n",
       "      <td>0</td>\n",
       "      <td>1</td>\n",
       "      <td>1</td>\n",
       "      <td>33.500000</td>\n",
       "      <td>1</td>\n",
       "    </tr>\n",
       "    <tr>\n",
       "      <th>1</th>\n",
       "      <td>server_31576</td>\n",
       "      <td>2019-01-14 18:52:31</td>\n",
       "      <td>2019-01-14 18:20:03</td>\n",
       "      <td>0</td>\n",
       "      <td>0</td>\n",
       "      <td>0</td>\n",
       "      <td>0</td>\n",
       "      <td>0</td>\n",
       "      <td>0</td>\n",
       "      <td>0</td>\n",
       "      <td>...</td>\n",
       "      <td>0</td>\n",
       "      <td>0</td>\n",
       "      <td>0</td>\n",
       "      <td>0</td>\n",
       "      <td>0</td>\n",
       "      <td>0</td>\n",
       "      <td>1</td>\n",
       "      <td>1</td>\n",
       "      <td>32.466667</td>\n",
       "      <td>1</td>\n",
       "    </tr>\n",
       "    <tr>\n",
       "      <th>2</th>\n",
       "      <td>server_31576</td>\n",
       "      <td>2019-01-14 18:52:31</td>\n",
       "      <td>2019-01-14 18:25:51</td>\n",
       "      <td>0</td>\n",
       "      <td>0</td>\n",
       "      <td>0</td>\n",
       "      <td>0</td>\n",
       "      <td>0</td>\n",
       "      <td>0</td>\n",
       "      <td>0</td>\n",
       "      <td>...</td>\n",
       "      <td>0</td>\n",
       "      <td>0</td>\n",
       "      <td>0</td>\n",
       "      <td>0</td>\n",
       "      <td>0</td>\n",
       "      <td>0</td>\n",
       "      <td>1</td>\n",
       "      <td>1</td>\n",
       "      <td>26.666667</td>\n",
       "      <td>1</td>\n",
       "    </tr>\n",
       "    <tr>\n",
       "      <th>3</th>\n",
       "      <td>server_31576</td>\n",
       "      <td>2019-01-14 18:52:31</td>\n",
       "      <td>2019-01-14 18:29:57</td>\n",
       "      <td>0</td>\n",
       "      <td>0</td>\n",
       "      <td>0</td>\n",
       "      <td>0</td>\n",
       "      <td>0</td>\n",
       "      <td>0</td>\n",
       "      <td>0</td>\n",
       "      <td>...</td>\n",
       "      <td>0</td>\n",
       "      <td>0</td>\n",
       "      <td>0</td>\n",
       "      <td>0</td>\n",
       "      <td>0</td>\n",
       "      <td>0</td>\n",
       "      <td>1</td>\n",
       "      <td>1</td>\n",
       "      <td>22.566667</td>\n",
       "      <td>1</td>\n",
       "    </tr>\n",
       "    <tr>\n",
       "      <th>4</th>\n",
       "      <td>server_31576</td>\n",
       "      <td>2019-01-14 18:52:31</td>\n",
       "      <td>2019-01-14 18:32:08</td>\n",
       "      <td>0</td>\n",
       "      <td>0</td>\n",
       "      <td>0</td>\n",
       "      <td>0</td>\n",
       "      <td>0</td>\n",
       "      <td>0</td>\n",
       "      <td>0</td>\n",
       "      <td>...</td>\n",
       "      <td>0</td>\n",
       "      <td>0</td>\n",
       "      <td>0</td>\n",
       "      <td>0</td>\n",
       "      <td>0</td>\n",
       "      <td>0</td>\n",
       "      <td>1</td>\n",
       "      <td>1</td>\n",
       "      <td>20.383333</td>\n",
       "      <td>1</td>\n",
       "    </tr>\n",
       "  </tbody>\n",
       "</table>\n",
       "<p>5 rows × 32 columns</p>\n",
       "</div>"
      ],
      "text/plain": [
       "  serial_number         failure_time         collect_time  1_hwerr_f  \\\n",
       "0  server_31576  2019-01-14 18:52:31  2019-01-14 18:19:01          0   \n",
       "1  server_31576  2019-01-14 18:52:31  2019-01-14 18:20:03          0   \n",
       "2  server_31576  2019-01-14 18:52:31  2019-01-14 18:25:51          0   \n",
       "3  server_31576  2019-01-14 18:52:31  2019-01-14 18:29:57          0   \n",
       "4  server_31576  2019-01-14 18:52:31  2019-01-14 18:32:08          0   \n",
       "\n",
       "   1_hwerr_e  2_hwerr_c  2_sel  3_hwerr_n  2_hwerr_s  3_hwerr_m  ...  \\\n",
       "0          0          0      0          0          0          0  ...   \n",
       "1          0          0      0          0          0          0  ...   \n",
       "2          0          0      0          0          0          0  ...   \n",
       "3          0          0      0          0          0          0  ...   \n",
       "4          0          0      0          0          0          0  ...   \n",
       "\n",
       "   3_cmci_sub  3_cmci_det  3_hwerr_pi  3_hwerr_o  3_hwerr_mce_l  manufacturer  \\\n",
       "0           0           0           0          0              0             0   \n",
       "1           0           0           0          0              0             0   \n",
       "2           0           0           0          0              0             0   \n",
       "3           0           0           0          0              0             0   \n",
       "4           0           0           0          0              0             0   \n",
       "\n",
       "   vendor  tag   err_time  err  \n",
       "0       1    1  33.500000    1  \n",
       "1       1    1  32.466667    1  \n",
       "2       1    1  26.666667    1  \n",
       "3       1    1  22.566667    1  \n",
       "4       1    1  20.383333    1  \n",
       "\n",
       "[5 rows x 32 columns]"
      ]
     },
     "execution_count": 28,
     "metadata": {},
     "output_type": "execute_result"
    }
   ],
   "source": [
    "data = pd.read_csv('../../数据/生成/预处理后数据.csv')\n",
    "data.head()"
   ]
  },
  {
   "cell_type": "markdown",
   "id": "23f4ae6e-c482-47a5-81be-bf50dfb48f88",
   "metadata": {
    "tags": []
   },
   "source": [
    "# 删除列"
   ]
  },
  {
   "cell_type": "code",
   "execution_count": 3,
   "id": "3c44bc3f-e479-4867-8f18-984c835dea1e",
   "metadata": {
    "tags": []
   },
   "outputs": [],
   "source": [
    "pred = data.drop(['err_time','failure_time','collect_time','serial_number','tag'],axis=1)"
   ]
  },
  {
   "cell_type": "markdown",
   "id": "aa10fa4b-68b9-4a83-aec7-262e5959a2b2",
   "metadata": {
    "tags": []
   },
   "source": [
    "# 划分特征"
   ]
  },
  {
   "cell_type": "code",
   "execution_count": 4,
   "id": "6c8624c5-b472-480b-ad22-9489b21d3c85",
   "metadata": {
    "tags": []
   },
   "outputs": [],
   "source": [
    "x = pred.iloc[:,:-1]\n",
    "y = pred.iloc[:,-1]"
   ]
  },
  {
   "cell_type": "markdown",
   "id": "61a79db6-5418-499f-8875-2ff3d7b1fe93",
   "metadata": {
    "tags": []
   },
   "source": [
    "# 分类模型训练"
   ]
  },
  {
   "cell_type": "code",
   "execution_count": 5,
   "id": "3e3fe7d9-a71f-4134-9503-7816e2a34e30",
   "metadata": {
    "tags": []
   },
   "outputs": [],
   "source": [
    "from sklearn.model_selection import cross_validate"
   ]
  },
  {
   "cell_type": "code",
   "execution_count": 6,
   "id": "7a452bf3-90ea-4086-bbb7-6375d733b14a",
   "metadata": {
    "tags": []
   },
   "outputs": [],
   "source": [
    "from sklearn.ensemble import AdaBoostClassifier,BaggingClassifier,ExtraTreesClassifier,GradientBoostingClassifier,HistGradientBoostingClassifier,RandomForestClassifier"
   ]
  },
  {
   "cell_type": "code",
   "execution_count": 7,
   "id": "e4e152a3-eb7f-4050-accb-8ad97ea4d181",
   "metadata": {
    "tags": []
   },
   "outputs": [],
   "source": [
    "from xgboost import XGBClassifier,XGBRFClassifier\n",
    "from lightgbm import LGBMClassifier"
   ]
  },
  {
   "cell_type": "code",
   "execution_count": 8,
   "id": "1f8b475c-c79d-4a9f-871f-e0486600c237",
   "metadata": {
    "tags": []
   },
   "outputs": [],
   "source": [
    "nick = 'xgbc,xgbrfc,lgbmc,adac,bgc,etc,gbc,hgbc,rfc'.split(',')\n",
    "module = 'XGBClassifier,XGBRFClassifier,LGBMClassifier,AdaBoostClassifier,BaggingClassifier,ExtraTreesClassifier,GradientBoostingClassifier,HistGradientBoostingClassifier,RandomForestClassifier'.split(',')"
   ]
  },
  {
   "cell_type": "code",
   "execution_count": 9,
   "id": "ef53a073-3471-4a9d-b092-89db71186298",
   "metadata": {
    "tags": []
   },
   "outputs": [],
   "source": [
    "# 召回率(正确预测出有风险的概率)\n",
    "score_recall = []\n",
    "for i,k in zip(nick,module):\n",
    "    exec(f'{i} = {k}()')\n",
    "    exec(f'score_recall.append(cross_validate({i},x,y,scoring = \"recall\" , cv = 5 , n_jobs=-1))')"
   ]
  },
  {
   "cell_type": "code",
   "execution_count": 10,
   "id": "c2c96892-3d59-4516-b772-d30de8fd9064",
   "metadata": {
    "tags": []
   },
   "outputs": [],
   "source": [
    "# 准确率(总体正确概率)\n",
    "score_accuracy = []\n",
    "for i,k in zip(nick,module):\n",
    "    exec(f'{i} = {k}()')\n",
    "    exec(f'score_accuracy.append(cross_validate({i},x,y,scoring = \"accuracy\" , cv = 5 , n_jobs=-1))')"
   ]
  },
  {
   "cell_type": "code",
   "execution_count": 15,
   "id": "440a1c8e-7631-4ce4-8fff-ec7afe999c3f",
   "metadata": {},
   "outputs": [],
   "source": [
    "# 保存模型数据\n",
    "import pickle\n",
    "for i,k in zip(nick,module):\n",
    "    exec(f'pickle.dump({i}, open(\"保存的模型/{k}.pkl\", \"wb\"))')"
   ]
  },
  {
   "cell_type": "code",
   "execution_count": 16,
   "id": "65c29d80-3f5c-4b3a-9836-501df25f6481",
   "metadata": {},
   "outputs": [],
   "source": [
    "# 读取模型数据\n",
    "import joblib\n",
    "for i,k in zip(nick,module):\n",
    "    exec(f'{i} = joblib.load(\"保存的模型/{k}.pkl\")')"
   ]
  },
  {
   "cell_type": "markdown",
   "id": "83aa0482-8017-4826-8fa5-579d2e8cda6f",
   "metadata": {
    "jupyter": {
     "source_hidden": true
    },
    "tags": []
   },
   "source": [
    "### 排名"
   ]
  },
  {
   "cell_type": "code",
   "execution_count": 13,
   "id": "434e2595-a7a9-4b04-b41a-0e2b2f11eaec",
   "metadata": {},
   "outputs": [],
   "source": [
    "import numpy as np"
   ]
  },
  {
   "cell_type": "code",
   "execution_count": 16,
   "id": "65873afb-af8f-4adb-97b5-5e6765e7b480",
   "metadata": {
    "tags": []
   },
   "outputs": [
    {
     "name": "stdout",
     "output_type": "stream",
     "text": [
      "排名 模型 (平均)召回率\n",
      "1 XGBClassifier 0.074325\n",
      "2 RandomForestClassifier 0.074300\n",
      "3 ExtraTreesClassifier 0.074292\n",
      "4 BaggingClassifier 0.074160\n",
      "5 LGBMClassifier 0.074011\n",
      "6 HistGradientBoostingClassifier 0.073772\n",
      "7 GradientBoostingClassifier 0.068233\n",
      "8 XGBRFClassifier 0.063213\n",
      "9 AdaBoostClassifier 0.004963\n"
     ]
    }
   ],
   "source": [
    "# 主要看召回率\n",
    "ind = np.argsort([j['test_score'].mean() for j in score_recall])[::-1]\n",
    "print('排名 模型 (平均)召回率')\n",
    "for i,k in enumerate(ind):\n",
    "    print(i+1,module[k],'%f'%[j['test_score'].mean() for j in score_recall][k])"
   ]
  },
  {
   "cell_type": "code",
   "execution_count": 19,
   "id": "69b439e6-7cc0-4c5e-bce2-ca67e3cb1df4",
   "metadata": {
    "tags": []
   },
   "outputs": [
    {
     "name": "stdout",
     "output_type": "stream",
     "text": [
      "排名 模型 (平均)准确率\n",
      "1 XGBRFClassifier 0.955396\n",
      "2 GradientBoostingClassifier 0.952636\n",
      "3 AdaBoostClassifier 0.951602\n",
      "4 HistGradientBoostingClassifier 0.951381\n",
      "5 LGBMClassifier 0.950298\n",
      "6 BaggingClassifier 0.948035\n",
      "7 RandomForestClassifier 0.948030\n",
      "8 ExtraTreesClassifier 0.948028\n",
      "9 XGBClassifier 0.948026\n"
     ]
    }
   ],
   "source": [
    "ind = np.argsort([j['test_score'].mean() for j in score_accuracy])[::-1]\n",
    "print('排名 模型 (平均)准确率')\n",
    "for i,k in enumerate(ind):\n",
    "    print(i+1,module[k],'%f'%[j['test_score'].mean() for j in score_accuracy][k])"
   ]
  },
  {
   "cell_type": "code",
   "execution_count": 22,
   "id": "c0161081-02e6-478b-9029-04561a22f4fb",
   "metadata": {},
   "outputs": [
    {
     "name": "stdout",
     "output_type": "stream",
     "text": [
      "排名 模型 (综合)效果\n",
      "1 HistGradientBoostingClassifier 1.025154\n",
      "2 LGBMClassifier 1.024310\n",
      "3 XGBClassifier 1.022351\n",
      "4 RandomForestClassifier 1.022330\n",
      "5 ExtraTreesClassifier 1.022319\n",
      "6 BaggingClassifier 1.022195\n",
      "7 GradientBoostingClassifier 1.020869\n",
      "8 XGBRFClassifier 1.018608\n",
      "9 AdaBoostClassifier 0.956565\n"
     ]
    }
   ],
   "source": [
    "ind = np.argsort([(j['test_score'].mean()+k['test_score'].mean()).mean() for j,k in zip(score_accuracy,score_recall)])[::-1]\n",
    "print('排名 模型 (综合)效果')\n",
    "for i,k in enumerate(ind):\n",
    "    print(i+1,module[k],'%f'%[(j['test_score'].mean()+k['test_score'].mean()).mean() for j,k in zip(score_accuracy,score_recall)][k])"
   ]
  },
  {
   "cell_type": "markdown",
   "id": "7228828e-756b-48db-941e-b107da89f667",
   "metadata": {
    "tags": []
   },
   "source": [
    "### 分类模型效果可视化"
   ]
  },
  {
   "cell_type": "code",
   "execution_count": 23,
   "id": "d17bdf5a-3270-44c0-94b0-a4106bcd716f",
   "metadata": {
    "tags": []
   },
   "outputs": [],
   "source": [
    "import matplotlib.pyplot as plt\n",
    "import seaborn as sns"
   ]
  },
  {
   "cell_type": "code",
   "execution_count": 24,
   "id": "8620b576-2a9b-4e52-bccf-898170cd728a",
   "metadata": {
    "tags": []
   },
   "outputs": [],
   "source": [
    "plt.rcParams['font.sans-serif']=['SimHei']"
   ]
  },
  {
   "cell_type": "code",
   "execution_count": 25,
   "id": "4016279d-09d4-4537-bc1e-46951b70cc07",
   "metadata": {
    "tags": []
   },
   "outputs": [
    {
     "data": {
      "image/png": "[encoded data removed]",
      "text/plain": [
       "<Figure size 1200x600 with 1 Axes>"
      ]
     },
     "metadata": {},
     "output_type": "display_data"
    }
   ],
   "source": [
    "plt.figure(figsize=(12,6))\n",
    "ax = plt.bar(nick,np.mean([i['fit_time'] for i in score_recall],axis=1),width=0.5,color={'#BEB8DC','#8ECFC9','#FFBE7A','#FA7F6F','#82B0D2'},linewidth=1,edgecolor='black')\n",
    "plt.title('训练时间')\n",
    "plt.ylabel('时间',loc='top')\n",
    "plt.xlabel('模型',loc='right')\n",
    "plt.bar_label(ax,fmt='%gs');"
   ]
  },
  {
   "cell_type": "code",
   "execution_count": 26,
   "id": "444d1ce8-fb2d-4d64-b7fa-fa05ec543392",
   "metadata": {
    "tags": []
   },
   "outputs": [
    {
     "data": {
      "image/png": "[encoded data removed]",
      "text/plain": [
       "<Figure size 1200x600 with 1 Axes>"
      ]
     },
     "metadata": {},
     "output_type": "display_data"
    }
   ],
   "source": [
    "plt.figure(figsize=(12,6))\n",
    "ax = plt.bar(nick,np.mean([i['test_score']*100 for i in score_recall],axis=1),color={'#BEB8DC','#8ECFC9','#FFBE7A','#FA7F6F','#82B0D2'},width=0.5,linewidth=1,edgecolor='black')\n",
    "plt.title('召回率')\n",
    "plt.ylabel('召回率',loc='top')\n",
    "plt.xlabel('模型',loc='right')\n",
    "plt.bar_label(ax,fmt='%2.6g%%')\n",
    "plt.ylim(6.2,7.5);"
   ]
  },
  {
   "cell_type": "code",
   "execution_count": 31,
   "id": "66cd3d56-b2bd-41ef-8a6a-b67e3aeccdf8",
   "metadata": {
    "tags": []
   },
   "outputs": [
    {
     "data": {
      "image/png": "[encoded data removed]",
      "text/plain": [
       "<Figure size 1200x600 with 1 Axes>"
      ]
     },
     "metadata": {},
     "output_type": "display_data"
    }
   ],
   "source": [
    "plt.figure(figsize=(12,6))\n",
    "ax = plt.bar(nick,np.mean([i['test_score']*100 for i in score_accuracy],axis=1),color={'#BEB8DC','#8ECFC9','#FFBE7A','#FA7F6F','#82B0D2'},width=0.5,linewidth=1,edgecolor='black')\n",
    "plt.title('准确率')\n",
    "plt.ylabel('准确率',loc='top')\n",
    "plt.xlabel('模型',loc='right')\n",
    "plt.bar_label(ax,fmt='%2.6g%%')\n",
    "plt.ylim(94,95.7);"
   ]
  },
  {
   "cell_type": "markdown",
   "id": "09ca8e11-d04f-4c01-868d-e579d5448abc",
   "metadata": {
    "tags": []
   },
   "source": [
    "# 调参\n",
    "- 性能不够(时间过久)"
   ]
  },
  {
   "cell_type": "code",
   "execution_count": 246,
   "id": "ac68c89a-4add-4f64-8f3e-bb74f25035bd",
   "metadata": {
    "tags": []
   },
   "outputs": [],
   "source": [
    "from sklearn.model_selection import GridSearchCV"
   ]
  },
  {
   "cell_type": "code",
   "execution_count": 248,
   "id": "f753c8b2-1c28-4a11-b390-a0776002b7b2",
   "metadata": {
    "tags": []
   },
   "outputs": [],
   "source": [
    "gcv = GridSearchCV(rfc,{'n_estimators':range(100,300)},scoring='recall',n_jobs=-1,cv=5)"
   ]
  },
  {
   "cell_type": "code",
   "execution_count": null,
   "id": "ff46d6e4-e7cc-4b41-addd-e182c76b7474",
   "metadata": {
    "tags": []
   },
   "outputs": [],
   "source": [
    "gcv.fit(x,y)"
   ]
  },
  {
   "cell_type": "code",
   "execution_count": null,
   "id": "368d47a4-6893-4f2b-a9a4-c619c12a9de9",
   "metadata": {},
   "outputs": [],
   "source": [
    "gcv.cv_results"
   ]
  },
  {
   "cell_type": "markdown",
   "id": "e782bbd3-ed49-4910-9326-e0d3f8747a0a",
   "metadata": {
    "tags": []
   },
   "source": [
    "# 回归模型筛选"
   ]
  },
  {
   "cell_type": "code",
   "execution_count": 3,
   "id": "c90bb33a-00c7-4def-9d69-fbc9d4322d03",
   "metadata": {
    "tags": []
   },
   "outputs": [],
   "source": [
    "from sklearn.ensemble import AdaBoostRegressor,GradientBoostingRegressor,RandomForestRegressor\n",
    "from sklearn.tree import DecisionTreeRegressor\n",
    "from sklearn.svm import SVR\n",
    "from xgboost import XGBRegressor,XGBRFRegressor\n",
    "from lightgbm import LGBMRegressor\n",
    "from sklearn.model_selection import cross_val_score"
   ]
  },
  {
   "cell_type": "code",
   "execution_count": 4,
   "id": "235401cc-15ae-42ba-9a2d-469736b5274a",
   "metadata": {
    "tags": []
   },
   "outputs": [],
   "source": [
    "nicks = 'abr,gbr,rfr,dtr,svr,xgbr,xgbrfr,lgbmr'.split(',')\n",
    "models = 'AdaBoostRegressor,GradientBoostingRegressor,RandomForestRegressor,DecisionTreeRegressor,SVR,XGBRegressor,XGBRFRegressor,LGBMRegressor'.split(',')"
   ]
  },
  {
   "cell_type": "code",
   "execution_count": 30,
   "id": "4e3f9445-31a1-4a35-89a6-cd19e9041b3e",
   "metadata": {
    "tags": []
   },
   "outputs": [],
   "source": [
    "pred = data[data['err']==1]"
   ]
  },
  {
   "cell_type": "code",
   "execution_count": 31,
   "id": "32dd61a3-07e4-487e-a8cb-0079909a727e",
   "metadata": {
    "tags": []
   },
   "outputs": [],
   "source": [
    "pred = data.drop(['serial_number','failure_time','collect_time','err','tag'],axis=1)"
   ]
  },
  {
   "cell_type": "code",
   "execution_count": 32,
   "id": "9ce78522-ee5b-45ab-99fe-2527a29d2292",
   "metadata": {
    "tags": []
   },
   "outputs": [],
   "source": [
    "pred.dropna(how='any',inplace=True)"
   ]
  },
  {
   "cell_type": "code",
   "execution_count": 33,
   "id": "f5835e61-4c84-4011-9906-7661bafbc30c",
   "metadata": {
    "tags": []
   },
   "outputs": [],
   "source": [
    "x = pred.drop('err_time',axis=1)\n",
    "y = pred['err_time']"
   ]
  },
  {
   "cell_type": "markdown",
   "id": "a9af02d7-bd6a-451f-a091-c65f210c2965",
   "metadata": {
    "tags": []
   },
   "source": [
    "# 训练"
   ]
  },
  {
   "cell_type": "code",
   "execution_count": 34,
   "id": "349a9069-3275-4282-bec6-a9fcb84e7a9b",
   "metadata": {
    "tags": []
   },
   "outputs": [
    {
     "name": "stdout",
     "output_type": "stream",
     "text": [
      "AdaBoostRegressor\n",
      "GradientBoostingRegressor\n",
      "RandomForestRegressor\n",
      "DecisionTreeRegressor\n",
      "SVR\n",
      "XGBRegressor\n",
      "XGBRFRegressor\n",
      "LGBMRegressor\n"
     ]
    }
   ],
   "source": [
    "r2 = []\n",
    "for n,m in zip(nicks,models):\n",
    "    print(m)\n",
    "    exec(f'''{n} = {m}()\n",
    "r2.append(cross_val_score({n},x,y,scoring='r2',cv=5,n_jobs=-1))''')"
   ]
  },
  {
   "cell_type": "markdown",
   "id": "0eb57f82-fb0a-416f-a261-1aae204a25f9",
   "metadata": {
    "tags": []
   },
   "source": [
    "# 结果"
   ]
  },
  {
   "cell_type": "code",
   "execution_count": 14,
   "id": "f1f7ccac-ec43-4f7f-b985-bb39949c2cb4",
   "metadata": {
    "tags": []
   },
   "outputs": [],
   "source": [
    "import numpy as np"
   ]
  },
  {
   "cell_type": "code",
   "execution_count": 35,
   "id": "e269d656-e099-4fab-9e9c-cd498d1ad582",
   "metadata": {
    "tags": []
   },
   "outputs": [
    {
     "name": "stdout",
     "output_type": "stream",
     "text": [
      "排序 模型 r2得分\n",
      "1 GradientBoostingRegressor -0.029399\n",
      "2 XGBRFRegressor -0.044230\n",
      "3 RandomForestRegressor -0.056074\n",
      "4 XGBRegressor -0.056461\n",
      "5 DecisionTreeRegressor -0.056995\n",
      "6 LGBMRegressor -0.057034\n",
      "7 AdaBoostRegressor -0.081863\n",
      "8 SVR -0.190989\n"
     ]
    }
   ],
   "source": [
    "ind = np.argsort([j.mean() for j in r2])[::-1]\n",
    "print('排序 模型 r2得分')\n",
    "for i,k in enumerate(ind):\n",
    "    print(i+1,models[k],'%f'%[j.mean() for j in r2][k])"
   ]
  },
  {
   "cell_type": "markdown",
   "id": "4659d74f-8fc7-4c8d-ad4b-13d56300727f",
   "metadata": {
    "tags": []
   },
   "source": [
    "# 可视化"
   ]
  },
  {
   "cell_type": "code",
   "execution_count": 20,
   "id": "97a49036-ba21-4efe-81e4-65e9800ea3dc",
   "metadata": {
    "tags": []
   },
   "outputs": [],
   "source": [
    "import matplotlib.pyplot as plt\n",
    "import seaborn as sns"
   ]
  },
  {
   "cell_type": "code",
   "execution_count": 25,
   "id": "ed7ac6a5-cee5-4d72-b944-b22cbac1c270",
   "metadata": {
    "tags": []
   },
   "outputs": [],
   "source": [
    "plt.rcParams['font.sans-serif']=['SimHei']\n",
    "plt.rcParams['axes.unicode_minus']=False"
   ]
  },
  {
   "cell_type": "code",
   "execution_count": 36,
   "id": "ad23a124-b128-46a4-9b26-0eadb5ec4279",
   "metadata": {
    "tags": []
   },
   "outputs": [
    {
     "data": {
      "image/png": "[encoded data removed]",
      "text/plain": [
       "<Figure size 1200x600 with 1 Axes>"
      ]
     },
     "metadata": {},
     "output_type": "display_data"
    }
   ],
   "source": [
    "plt.figure(figsize=(12,6))\n",
    "ax = plt.bar(nicks,np.mean([i for i in r2],axis=1),width=0.5,color={'#BEB8DC','#8ECFC9','#FFBE7A','#FA7F6F','#82B0D2'},linewidth=1,edgecolor='black')\n",
    "plt.title('拟合度')\n",
    "plt.ylabel('r2',loc='top')\n",
    "plt.xlabel('模型',loc='right')\n",
    "plt.bar_label(ax,fmt='%gs');"
   ]
  }
 ],
 "metadata": {
  "kernelspec": {
   "display_name": "Python 3 (ipykernel)",
   "language": "python",
   "name": "python3"
  },
  "language_info": {
   "codemirror_mode": {
    "name": "ipython",
    "version": 3
   },
   "file_extension": ".py",
   "mimetype": "text/x-python",
   "name": "python",
   "nbconvert_exporter": "python",
   "pygments_lexer": "ipython3",
   "version": "3.10.10"
  }
 },
 "nbformat": 4,
 "nbformat_minor": 5
}
